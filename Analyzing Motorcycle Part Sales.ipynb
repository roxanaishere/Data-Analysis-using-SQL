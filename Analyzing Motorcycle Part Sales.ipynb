{
 "cells": [
  {
   "cell_type": "markdown",
   "id": "13335817",
   "metadata": {},
   "source": [
    "You're working for a company that sells motorcycle parts, and they've asked with some help in analyzing their sales data!\n",
    "\n",
    "They operate three warehouses in the area, selling both retail and wholesale. They offer a variety of parts and accept credit card, cash, and bank transfer as payment methods. However, each payment type incurs a different fee.\n",
    "\n",
    "The board of directors want to gain a better understanding of wholesale revenue by product line, and how this varies month-to-month and across warehouses. You have been tasked with calculating net revenue for each product line, grouping results by month and warehouse. The results should be filtered so that only `\"Wholesale\"` orders are included.\n",
    "\n",
    "They have provided you with access to their database, which contains the following table called `sales`:\n",
    "\n",
    "| Column | Data type | Description |\n",
    "|--------|-----------|-------------|\n",
    "| `order_number` | `VARCHAR` | Unique order number. |\n",
    "| `date` | `DATE` | Date of the order, from June to August 2021. |\n",
    "| `warehouse` | `VARCHAR` | The warehouse that the order was made from&mdash; `North`, `Central`, or `West`. |\n",
    "| `client_type` | `VARCHAR` | Whether the order was `Retail` or `Wholesale`. |\n",
    "| `product_line` | `VARCHAR` | Type of product ordered. |\n",
    "| `quantity` | `INT` | Number of products ordered. | \n",
    "| `unit_price` | `FLOAT` | Price per product (dollars). |\n",
    "| `total` | `FLOAT` | Total price of the order (dollars). |\n",
    "| `payment` | `VARCHAR` | Payment method&mdash;`Credit card`, `Transfer`, or `Cash`. |\n",
    "| `payment_fee` | `FLOAT` | Percentage of `total` charged as a result of the `payment` method. |\n",
    "\n",
    "\n",
    "Your query output should be presented in the following format:\n",
    "\n",
    "| `product_line` | `month` | `warehouse` |\t`net_revenue` |\n",
    "|----------------|-----------|----------------------------|--------------|\n",
    "| product_one | --- | --- | --- |\n",
    "| product_one | --- | --- | --- |\n",
    "| product_one | --- | --- | --- |\n",
    "| product_one | --- | --- | --- |\n",
    "| product_one | --- | --- | --- |\n",
    "| product_one | --- | --- | --- |\n",
    "| product_two | --- | --- | --- |\n",
    "| ... | ... | ... | ... |\n",
    "\n"
   ]
  },
  {
   "cell_type": "code",
   "execution_count": 1,
   "id": "ff58f388",
   "metadata": {
    "customType": "sql",
    "dataFrameVariableName": "df",
    "executionTime": 1634,
    "initial": false,
    "integrationId": "89e17161-a224-4a8a-846b-0adc0fe7a4b1",
    "lastSuccessfullyExecutedCode": "SELECT *\nFROM sales\nLIMIT 5;"
   },
   "outputs": [
    {
     "ename": "SyntaxError",
     "evalue": "invalid syntax (1610577503.py, line 1)",
     "output_type": "error",
     "traceback": [
      "\u001b[0;36m  Cell \u001b[0;32mIn [1], line 1\u001b[0;36m\u001b[0m\n\u001b[0;31m    SELECT *\u001b[0m\n\u001b[0m            ^\u001b[0m\n\u001b[0;31mSyntaxError\u001b[0m\u001b[0;31m:\u001b[0m invalid syntax\n"
     ]
    }
   ],
   "source": [
    "SELECT *\n",
    "FROM sales\n",
    "LIMIT 5;"
   ]
  },
  {
   "cell_type": "code",
   "execution_count": null,
   "id": "2d988e3b-681d-4377-838f-02c3f3e883f2",
   "metadata": {
    "customType": "sql",
    "dataFrameVariableName": "df",
    "executionTime": 1462,
    "initial": false,
    "integrationId": "89e17161-a224-4a8a-846b-0adc0fe7a4b1",
    "lastSuccessfullyExecutedCode": "select product_line, \n       case when extract('month' from date) =6 then 'June'\n           when extract('month' from date) =7 then 'July'\n           when extract('month' from date) =8 then 'August'\n       end as month,\n       warehouse,\n       round(sum(total*(1-payment_fee))::numeric,2) as net_revenue\n       \nfrom sales\nwhere client_type='Wholesale'\ngroup by product_line, warehouse, month\norder by product_line, month, net_revenue desc"
   },
   "outputs": [],
   "source": [
    "select product_line, \n",
    "       case when extract('month' from date) =6 then 'June'\n",
    "           when extract('month' from date) =7 then 'July'\n",
    "           when extract('month' from date) =8 then 'August'\n",
    "       end as month,\n",
    "       warehouse,\n",
    "       round(sum(total*(1-payment_fee))::numeric,2) as net_revenue\n",
    "       \n",
    "from sales\n",
    "where client_type='Wholesale'\n",
    "group by product_line, warehouse, month\n",
    "order by product_line, month, net_revenue desc"
   ]
  }
 ],
 "metadata": {
  "celltoolbar": "Raw Cell Format",
  "editor": "DataCamp Workspace",
  "kernelspec": {
   "display_name": "Python 3 (ipykernel)",
   "language": "python",
   "name": "python3"
  },
  "language_info": {
   "codemirror_mode": {
    "name": "ipython",
    "version": 3
   },
   "file_extension": ".py",
   "mimetype": "text/x-python",
   "name": "python",
   "nbconvert_exporter": "python",
   "pygments_lexer": "ipython3",
   "version": "3.9.13"
  },
  "toc": {
   "base_numbering": 1,
   "nav_menu": {},
   "number_sections": true,
   "sideBar": true,
   "skip_h1_title": true,
   "title_cell": "Table of Contents",
   "title_sidebar": "Contents",
   "toc_cell": false,
   "toc_position": {},
   "toc_section_display": true,
   "toc_window_display": true
  },
  "vscode": {
   "interpreter": {
    "hash": "4c28dce1b92814dac96c640b6c1f64aef8100cfec6687e74ab3caef459440498"
   }
  }
 },
 "nbformat": 4,
 "nbformat_minor": 5
}
