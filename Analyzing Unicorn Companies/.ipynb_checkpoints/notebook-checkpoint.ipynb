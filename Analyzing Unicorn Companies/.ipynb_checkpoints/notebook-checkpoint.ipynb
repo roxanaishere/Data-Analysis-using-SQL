{
 "cells": [
  {
   "cell_type": "markdown",
   "id": "1fe66cd5-4e11-4046-9e68-016430b84ecd",
   "metadata": {},
   "source": [
    "![Hand with calculator](calculator.png \"Calculator\")\n",
    "\n",
    "In this notebook, I will roleplay business analyst to support an investment firm by analyzing trends in high-growth companies. They are interested in understanding which industries are producing the highest valuations and the rate at which new high-value companies are emerging. Providing them with this information gives them a competitive insight as to industry trends and how they should structure their portfolio looking forward.\n",
    "\n",
    "Their `unicorns` database contains the following tables:\n",
    "\n",
    "`dates`\n",
    "\n",
    "| Column         | Description                                  |\n",
    "| ------------   | -------------------------------------------- |\n",
    "| company_id     | A unique ID for the company.                 |\n",
    "| date_joined    | The date that the company became a unicorn.  |\n",
    "| year_founded   | The year that the company was founded.       |\n",
    "\n",
    "`funding`\n",
    "\n",
    "| Column           | Description                                  |\n",
    "|----------------- |--------------------------------------------- |\n",
    "| company_id       | A unique ID for the company.                 |\n",
    "| valuation        | Company value in US dollars.                 |\n",
    "| funding          | The amount of funding raised in US dollars.  |\n",
    "| select_investors | A list of key investors in the company.      |\n",
    "\n",
    "`industries`\n",
    "\n",
    "| Column       | Description                                  |\n",
    "|------------- |--------------------------------------------- |\n",
    "| company_id   | A unique ID for the company.                 |\n",
    "| industry     | The industry that the company operates in.   |\n",
    "\n",
    "`companies`\n",
    "\n",
    "| Column       | Description                                       |\n",
    "|------------- |-------------------------------------------------- |\n",
    "| company_id   | A unique ID for the company.                      |\n",
    "| company      | The name of the company.                          |\n",
    "| city         | The city where the company is headquartered.      |\n",
    "| country      | The country where the company is headquartered.   |\n",
    "| continent    | The continent where the company is headquartered. |\n"
   ]
  },
  {
   "cell_type": "code",
   "execution_count": 1,
   "id": "7bda904b-0b3b-4b1e-9a3d-4c4aa9b3d3d3",
   "metadata": {
    "customType": "sql",
    "dataFrameVariableName": "df",
    "executionTime": 1930,
    "initial": false,
    "integrationId": "89e17161-a224-4a8a-846b-0adc0fe7a4b1",
    "lastSuccessfullyExecutedCode": "SELECT * FROM companies"
   },
   "outputs": [
    {
     "ename": "SyntaxError",
     "evalue": "invalid syntax (2190777650.py, line 1)",
     "output_type": "error",
     "traceback": [
      "\u001b[0;36m  Cell \u001b[0;32mIn [1], line 1\u001b[0;36m\u001b[0m\n\u001b[0;31m    SELECT * FROM companies\u001b[0m\n\u001b[0m                  ^\u001b[0m\n\u001b[0;31mSyntaxError\u001b[0m\u001b[0;31m:\u001b[0m invalid syntax\n"
     ]
    }
   ],
   "source": [
    "SELECT * FROM companies"
   ]
  },
  {
   "cell_type": "code",
   "execution_count": 2,
   "id": "bfa3176b-622b-47ce-8413-6428aee2cafc",
   "metadata": {
    "customType": "sql",
    "dataFrameVariableName": "df",
    "executionTime": 1299,
    "initial": false,
    "integrationId": "89e17161-a224-4a8a-846b-0adc0fe7a4b1",
    "lastSuccessfullyExecutedCode": "select *\nfrom dates\norder by date_joined desc"
   },
   "outputs": [
    {
     "ename": "SyntaxError",
     "evalue": "invalid syntax (331017167.py, line 1)",
     "output_type": "error",
     "traceback": [
      "\u001b[0;36m  Cell \u001b[0;32mIn [2], line 1\u001b[0;36m\u001b[0m\n\u001b[0;31m    select *\u001b[0m\n\u001b[0m            ^\u001b[0m\n\u001b[0;31mSyntaxError\u001b[0m\u001b[0;31m:\u001b[0m invalid syntax\n"
     ]
    }
   ],
   "source": [
    "select *\n",
    "from dates\n",
    "order by date_joined desc"
   ]
  },
  {
   "cell_type": "code",
   "execution_count": 3,
   "id": "3565973c-ee12-4036-84c3-1b07ba0cf805",
   "metadata": {
    "customType": "sql",
    "dataFrameVariableName": "df",
    "executionTime": 757,
    "initial": false,
    "integrationId": "89e17161-a224-4a8a-846b-0adc0fe7a4b1",
    "lastSuccessfullyExecutedCode": "select industry\nfrom industries\njoin funding\nusing (company_id)\njoin dates\nusing (company_id)\nwhere extract('year' from date_joined) in (2019,2020,2021)\ngroup by industry\norder by count(company_id) desc\nlimit 3"
   },
   "outputs": [
    {
     "data": {
      "application/com.datacamp.data-table.v1+json": {
       "table": {
        "data": [
         {
          "index": 0,
          "industry": "Fintech"
         },
         {
          "index": 1,
          "industry": "Internet software & services"
         },
         {
          "index": 2,
          "industry": "E-commerce & direct-to-consumer"
         }
        ],
        "schema": {
         "fields": [
          {
           "name": "index",
           "type": "integer"
          },
          {
           "name": "industry",
           "type": "string"
          }
         ],
         "pandas_version": "1.4.0",
         "primaryKey": [
          "index"
         ]
        }
       },
       "total_rows": 3,
       "truncation_type": null
      },
      "text/html": [
       "<div>\n",
       "<style scoped>\n",
       "    .dataframe tbody tr th:only-of-type {\n",
       "        vertical-align: middle;\n",
       "    }\n",
       "\n",
       "    .dataframe tbody tr th {\n",
       "        vertical-align: top;\n",
       "    }\n",
       "\n",
       "    .dataframe thead th {\n",
       "        text-align: right;\n",
       "    }\n",
       "</style>\n",
       "<table border=\"1\" class=\"dataframe\">\n",
       "  <thead>\n",
       "    <tr style=\"text-align: right;\">\n",
       "      <th></th>\n",
       "      <th>industry</th>\n",
       "    </tr>\n",
       "  </thead>\n",
       "  <tbody>\n",
       "    <tr>\n",
       "      <th>0</th>\n",
       "      <td>Fintech</td>\n",
       "    </tr>\n",
       "    <tr>\n",
       "      <th>1</th>\n",
       "      <td>Internet software &amp; services</td>\n",
       "    </tr>\n",
       "    <tr>\n",
       "      <th>2</th>\n",
       "      <td>E-commerce &amp; direct-to-consumer</td>\n",
       "    </tr>\n",
       "  </tbody>\n",
       "</table>\n",
       "</div>"
      ],
      "text/plain": [
       "                          industry\n",
       "0                          Fintech\n",
       "1     Internet software & services\n",
       "2  E-commerce & direct-to-consumer"
      ]
     },
     "execution_count": 3,
     "metadata": {},
     "output_type": "execute_result"
    }
   ],
   "source": [
    "select industry\n",
    "from industries\n",
    "join funding\n",
    "using (company_id)\n",
    "join dates\n",
    "using (company_id)\n",
    "where extract('year' from date_joined) in (2019,2020,2021)\n",
    "group by industry\n",
    "order by count(company_id) desc\n",
    "limit 3"
   ]
  },
  {
   "cell_type": "code",
   "execution_count": 4,
   "id": "9ba4562e-1028-436f-9fd6-7860bf29e3a9",
   "metadata": {
    "customType": "sql",
    "dataFrameVariableName": "df",
    "executionTime": 1368,
    "initial": false,
    "integrationId": "89e17161-a224-4a8a-846b-0adc0fe7a4b1",
    "lastSuccessfullyExecutedCode": "with top3_industries as (\n    select industry, count(company_id) as n\n    from industries\n    join funding\n    using (company_id)\n    join dates\n    using (company_id)\n    where extract('year' from date_joined) in (2019,2020,2021)\n    group by industry\n    order by n desc\n    limit 3)\n\n\nselect industry, \n       extract('year' from date_joined) as year, \n       count(company_id) as num_unicorns,\n       round(avg(valuation)/1000000000,2) as average_valuation_billions\nfrom industries\njoin funding\nusing (company_id)\njoin dates\nusing (company_id)\nwhere extract('year' from date_joined) in (2019,2020,2021) \nand industry in (select industry from top3_industries)\n    \ngroup by industry, year\norder by industry, year desc\n"
   },
   "outputs": [
    {
     "data": {
      "application/com.datacamp.data-table.v1+json": {
       "table": {
        "data": [
         {
          "average_valuation_billions": 2.47,
          "index": 0,
          "industry": "E-commerce & direct-to-consumer",
          "num_unicorns": 47,
          "year": 2021
         },
         {
          "average_valuation_billions": 4,
          "index": 1,
          "industry": "E-commerce & direct-to-consumer",
          "num_unicorns": 16,
          "year": 2020
         },
         {
          "average_valuation_billions": 2.58,
          "index": 2,
          "industry": "E-commerce & direct-to-consumer",
          "num_unicorns": 12,
          "year": 2019
         },
         {
          "average_valuation_billions": 2.75,
          "index": 3,
          "industry": "Fintech",
          "num_unicorns": 138,
          "year": 2021
         },
         {
          "average_valuation_billions": 4.33,
          "index": 4,
          "industry": "Fintech",
          "num_unicorns": 15,
          "year": 2020
         },
         {
          "average_valuation_billions": 6.8,
          "index": 5,
          "industry": "Fintech",
          "num_unicorns": 20,
          "year": 2019
         },
         {
          "average_valuation_billions": 2.15,
          "index": 6,
          "industry": "Internet software & services",
          "num_unicorns": 119,
          "year": 2021
         },
         {
          "average_valuation_billions": 4.35,
          "index": 7,
          "industry": "Internet software & services",
          "num_unicorns": 20,
          "year": 2020
         },
         {
          "average_valuation_billions": 4.23,
          "index": 8,
          "industry": "Internet software & services",
          "num_unicorns": 13,
          "year": 2019
         }
        ],
        "schema": {
         "fields": [
          {
           "name": "index",
           "type": "integer"
          },
          {
           "name": "industry",
           "type": "string"
          },
          {
           "name": "year",
           "type": "integer"
          },
          {
           "name": "num_unicorns",
           "type": "integer"
          },
          {
           "name": "average_valuation_billions",
           "type": "number"
          }
         ],
         "pandas_version": "1.4.0",
         "primaryKey": [
          "index"
         ]
        }
       },
       "total_rows": 9,
       "truncation_type": null
      },
      "text/html": [
       "<div>\n",
       "<style scoped>\n",
       "    .dataframe tbody tr th:only-of-type {\n",
       "        vertical-align: middle;\n",
       "    }\n",
       "\n",
       "    .dataframe tbody tr th {\n",
       "        vertical-align: top;\n",
       "    }\n",
       "\n",
       "    .dataframe thead th {\n",
       "        text-align: right;\n",
       "    }\n",
       "</style>\n",
       "<table border=\"1\" class=\"dataframe\">\n",
       "  <thead>\n",
       "    <tr style=\"text-align: right;\">\n",
       "      <th></th>\n",
       "      <th>industry</th>\n",
       "      <th>year</th>\n",
       "      <th>num_unicorns</th>\n",
       "      <th>average_valuation_billions</th>\n",
       "    </tr>\n",
       "  </thead>\n",
       "  <tbody>\n",
       "    <tr>\n",
       "      <th>0</th>\n",
       "      <td>E-commerce &amp; direct-to-consumer</td>\n",
       "      <td>2021</td>\n",
       "      <td>47</td>\n",
       "      <td>2.47</td>\n",
       "    </tr>\n",
       "    <tr>\n",
       "      <th>1</th>\n",
       "      <td>E-commerce &amp; direct-to-consumer</td>\n",
       "      <td>2020</td>\n",
       "      <td>16</td>\n",
       "      <td>4.00</td>\n",
       "    </tr>\n",
       "    <tr>\n",
       "      <th>2</th>\n",
       "      <td>E-commerce &amp; direct-to-consumer</td>\n",
       "      <td>2019</td>\n",
       "      <td>12</td>\n",
       "      <td>2.58</td>\n",
       "    </tr>\n",
       "    <tr>\n",
       "      <th>3</th>\n",
       "      <td>Fintech</td>\n",
       "      <td>2021</td>\n",
       "      <td>138</td>\n",
       "      <td>2.75</td>\n",
       "    </tr>\n",
       "    <tr>\n",
       "      <th>4</th>\n",
       "      <td>Fintech</td>\n",
       "      <td>2020</td>\n",
       "      <td>15</td>\n",
       "      <td>4.33</td>\n",
       "    </tr>\n",
       "    <tr>\n",
       "      <th>5</th>\n",
       "      <td>Fintech</td>\n",
       "      <td>2019</td>\n",
       "      <td>20</td>\n",
       "      <td>6.80</td>\n",
       "    </tr>\n",
       "    <tr>\n",
       "      <th>6</th>\n",
       "      <td>Internet software &amp; services</td>\n",
       "      <td>2021</td>\n",
       "      <td>119</td>\n",
       "      <td>2.15</td>\n",
       "    </tr>\n",
       "    <tr>\n",
       "      <th>7</th>\n",
       "      <td>Internet software &amp; services</td>\n",
       "      <td>2020</td>\n",
       "      <td>20</td>\n",
       "      <td>4.35</td>\n",
       "    </tr>\n",
       "    <tr>\n",
       "      <th>8</th>\n",
       "      <td>Internet software &amp; services</td>\n",
       "      <td>2019</td>\n",
       "      <td>13</td>\n",
       "      <td>4.23</td>\n",
       "    </tr>\n",
       "  </tbody>\n",
       "</table>\n",
       "</div>"
      ],
      "text/plain": [
       "                          industry  ...  average_valuation_billions\n",
       "0  E-commerce & direct-to-consumer  ...                        2.47\n",
       "1  E-commerce & direct-to-consumer  ...                        4.00\n",
       "2  E-commerce & direct-to-consumer  ...                        2.58\n",
       "3                          Fintech  ...                        2.75\n",
       "4                          Fintech  ...                        4.33\n",
       "5                          Fintech  ...                        6.80\n",
       "6     Internet software & services  ...                        2.15\n",
       "7     Internet software & services  ...                        4.35\n",
       "8     Internet software & services  ...                        4.23\n",
       "\n",
       "[9 rows x 4 columns]"
      ]
     },
     "execution_count": 4,
     "metadata": {},
     "output_type": "execute_result"
    }
   ],
   "source": [
    "with top3_industries as (\n",
    "    select industry, count(company_id) as n\n",
    "    from industries\n",
    "    join funding\n",
    "    using (company_id)\n",
    "    join dates\n",
    "    using (company_id)\n",
    "    where extract('year' from date_joined) in (2019,2020,2021)\n",
    "    group by industry\n",
    "    order by n desc\n",
    "    limit 3)\n",
    "\n",
    "\n",
    "select industry, \n",
    "       extract('year' from date_joined) as year, \n",
    "       count(company_id) as num_unicorns,\n",
    "       round(avg(valuation)/1000000000,2) as average_valuation_billions\n",
    "from industries\n",
    "join funding\n",
    "using (company_id)\n",
    "join dates\n",
    "using (company_id)\n",
    "where extract('year' from date_joined) in (2019,2020,2021) \n",
    "and industry in (select industry from top3_industries)\n",
    "    \n",
    "group by industry, year\n",
    "order by industry, year desc\n"
   ]
  }
 ],
 "metadata": {
  "colab": {
   "name": "Welcome to DataCamp Workspaces.ipynb",
   "provenance": []
  },
  "editor": "DataCamp Workspace",
  "kernelspec": {
   "display_name": "Python 3 (ipykernel)",
   "language": "python",
   "name": "python3"
  },
  "language_info": {
   "codemirror_mode": {
    "name": "ipython",
    "version": 3
   },
   "file_extension": ".py",
   "mimetype": "text/x-python",
   "name": "python",
   "nbconvert_exporter": "python",
   "pygments_lexer": "ipython3",
   "version": "3.9.13"
  }
 },
 "nbformat": 4,
 "nbformat_minor": 5
}
